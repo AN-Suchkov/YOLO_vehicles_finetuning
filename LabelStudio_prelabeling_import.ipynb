{
  "nbformat": 4,
  "nbformat_minor": 0,
  "metadata": {
    "colab": {
      "provenance": [],
      "gpuType": "T4",
      "toc_visible": true
    },
    "kernelspec": {
      "name": "python3",
      "display_name": "Python 3"
    },
    "language_info": {
      "name": "python"
    },
    "accelerator": "GPU"
  },
  "cells": [
    {
      "cell_type": "markdown",
      "source": [
        "# Загружаем изображение в LabelStudio, делаем предсказание и загружаем предсказания"
      ],
      "metadata": {
        "id": "OD90tJxC8XA4"
      }
    },
    {
      "cell_type": "markdown",
      "source": [
        "Вроде как изображения в папке должны быть названы в соответствии с предполагаемым inner_id"
      ],
      "metadata": {
        "id": "zlNti92b9ie4"
      }
    },
    {
      "cell_type": "markdown",
      "source": [
        "Настроить конфигурацию (api)"
      ],
      "metadata": {
        "id": "PrDIw79_-Cfi"
      }
    },
    {
      "cell_type": "code",
      "source": [
        "import os\n",
        "import requests\n",
        "import uuid\n",
        "from ultralytics import YOLO\n",
        "\n",
        "# Конфигурация\n",
        "LS_URL = ''\n",
        "API_KEY = ''\n",
        "PROJECT_ID = 000\n",
        "START_INNER_ID = 339 # Последний Inner_id в проекте LS\n",
        "IMAGE_DIR = r\"D:\\НЕ ШКИЛА\\СТАЖЕРКА\\Изображения\\5_2\\ALL\"\n",
        "MODEL_PATH = r\"D:\\НЕ ШКИЛА\\СТАЖЕРКА\\222\\custom_yolo_model.pt\"\n",
        "TOTAL_IMAGES = 702  # Общее количество изображений для загрузки\n",
        "\n",
        "# Загрузка модели\n",
        "model = YOLO(MODEL_PATH)\n",
        "\n",
        "# Генерируем список файлов\n",
        "image_files = [f\"{i}.jpg\" for i in range(1, TOTAL_IMAGES + 1)]\n",
        "\n",
        "# Загрузка изображений в проект\n",
        "for img_file in image_files:\n",
        "    img_path = os.path.join(IMAGE_DIR, img_file)\n",
        "\n",
        "    if not os.path.exists(img_path):\n",
        "        print(f\"⚠️ Файл не найден: {img_path}\")\n",
        "        continue\n",
        "\n",
        "    with open(img_path, 'rb') as f:\n",
        "        response = requests.post(\n",
        "            f\"{LS_URL}/api/projects/{PROJECT_ID}/import\",\n",
        "            headers={\"Authorization\": f\"Token {API_KEY}\"},\n",
        "            files=[('file', (img_file, f, 'image/jpeg'))]\n",
        "        )\n",
        "\n",
        "    if response.status_code == 201:\n",
        "        print(f\"✅ Загружено: {img_file}\")\n",
        "    else:\n",
        "        print(f\"❌ Ошибка загрузки {img_file}: {response.status_code} {response.text}\")\n",
        "\n",
        "# Получение списка задач\n",
        "response = requests.get(\n",
        "    f\"{LS_URL}/api/tasks\",\n",
        "    headers={\"Authorization\": f\"Token {API_KEY}\"},\n",
        "    params={\"project\": PROJECT_ID, \"page_size\": 1500}\n",
        ")\n",
        "\n",
        "if response.status_code != 200:\n",
        "    print(f\"❌ Ошибка получения задач: {response.status_code} {response.text}\")\n",
        "    exit()\n",
        "\n",
        "all_tasks = response.json().get(\"tasks\", [])\n",
        "print(f\"Получено {len(all_tasks)} задач\")\n",
        "\n",
        "# Фильтрация задач по диапазону inner_id\n",
        "target_tasks = []\n",
        "for inner_id in range(START_INNER_ID, START_INNER_ID + TOTAL_IMAGES):\n",
        "    task = next((t for t in all_tasks if t['inner_id'] == inner_id), None)\n",
        "    if task:\n",
        "        target_tasks.append(task)\n",
        "        print(f\"🔍 Найдена задача: inner_id={inner_id}, task_id={task['id']}\")\n",
        "    else:\n",
        "        print(f\"⚠️ Задача с inner_id={inner_id} не найдена!\")\n",
        "\n",
        "if not target_tasks:\n",
        "    print(\"❌ Не найдено ни одной задачи в указанном диапазоне!\")\n",
        "    exit()\n",
        "\n",
        "print(f\"\\nНайдено задач в диапазоне {START_INNER_ID}-{START_INNER_ID + TOTAL_IMAGES - 1}: {len(target_tasks)}\")\n",
        "\n",
        "# Обработка и загрузка предсказаний\n",
        "for task in target_tasks:\n",
        "    img_number = task['inner_id'] - START_INNER_ID + 1\n",
        "    img_file = f\"{img_number}.jpg\"\n",
        "    img_path = os.path.join(IMAGE_DIR, img_file)\n",
        "\n",
        "    if not os.path.exists(img_path):\n",
        "        print(f\"⚠️ Файл не найден: {img_path}\")\n",
        "        continue\n",
        "\n",
        "    # Делаем предсказание\n",
        "    results = model.predict(img_path, conf=0.5)\n",
        "    annotations = []\n",
        "\n",
        "    for box in results[0].boxes:\n",
        "        x1, y1, x2, y2 = box.xyxyn[0].tolist()\n",
        "        width = (x2 - x1) * 100\n",
        "        height = (y2 - y1) * 100\n",
        "\n",
        "        annotations.append({\n",
        "            \"id\": str(uuid.uuid4()),\n",
        "            \"type\": \"rectanglelabels\",\n",
        "            \"value\": {\n",
        "                \"x\": x1 * 100,\n",
        "                \"y\": y1 * 100,\n",
        "                \"width\": width,\n",
        "                \"height\": height,\n",
        "                \"rotation\": 0,\n",
        "                \"rectanglelabels\": [model.names[int(box.cls)]]\n",
        "            },\n",
        "            \"to_name\": \"image\",\n",
        "            \"from_name\": \"label\",\n",
        "            \"score\": float(box.conf)\n",
        "        })\n",
        "\n",
        "    # Формируем предсказание\n",
        "    prediction = {\n",
        "        \"task\": task[\"id\"],\n",
        "        \"result\": annotations,\n",
        "        \"model_version\": \"yolo_model\"\n",
        "    }\n",
        "\n",
        "    # Отправляем предсказание\n",
        "    response = requests.post(\n",
        "        f\"{LS_URL}/api/predictions\",\n",
        "        headers={\"Authorization\": f\"Token {API_KEY}\", \"Content-Type\": \"application/json\"},\n",
        "        json=prediction\n",
        "    )\n",
        "\n",
        "    if response.status_code == 201:\n",
        "        print(f\"✅ Успешно: задача {task['id']} (inner_id: {task['inner_id']}) - {img_file}\")\n",
        "    else:\n",
        "        print(f\"❌ Ошибка для задачи {task['id']}: {response.status_code} {response.text}\")\n",
        "\n",
        "print(\"\\n\" + \"=\" * 50)\n",
        "print(f\"Все операции завершены! Обработано {len(target_tasks)} задач\")\n",
        "print(\"=\" * 50)"
      ],
      "metadata": {
        "id": "DCHIv0WF6_q_"
      },
      "execution_count": null,
      "outputs": []
    }
  ]
}