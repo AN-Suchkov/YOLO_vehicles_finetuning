{
  "nbformat": 4,
  "nbformat_minor": 0,
  "metadata": {
    "colab": {
      "provenance": [],
      "gpuType": "T4",
      "toc_visible": true
    },
    "kernelspec": {
      "name": "python3",
      "display_name": "Python 3"
    },
    "language_info": {
      "name": "python"
    },
    "accelerator": "GPU"
  },
  "cells": [
    {
      "cell_type": "markdown",
      "source": [
        "# обучение"
      ],
      "metadata": {
        "id": "ZJcAYxVW88bo"
      }
    },
    {
      "cell_type": "code",
      "source": [
        "from google.colab import drive\n",
        "drive.mount('/content/drive')"
      ],
      "metadata": {
        "id": "ta-gsfD1NJhz"
      },
      "execution_count": null,
      "outputs": []
    },
    {
      "cell_type": "code",
      "execution_count": null,
      "metadata": {
        "id": "iuY_HaC5lmR-"
      },
      "outputs": [],
      "source": [
        "import zipfile\n",
        "import os\n",
        "\n",
        "zip_path = '/content/drive/MyDrive/YOLO_model/DATASET.zip'\n",
        "extract_path = '/content/dataset'\n",
        "\n",
        "os.makedirs(extract_path, exist_ok=True)\n",
        "\n",
        "with zipfile.ZipFile(zip_path, 'r') as zip_ref:\n",
        "    zip_ref.extractall(extract_path)\n",
        "\n",
        "print(f\"Датасет распакован в: {extract_path}\")\n",
        "print(f\"Содержимое папки: {os.listdir(extract_path)}\")"
      ]
    },
    {
      "cell_type": "code",
      "source": [
        "from google.colab import drive\n",
        "drive.mount('/content/drive')"
      ],
      "metadata": {
        "id": "OgssqGw2f2SN"
      },
      "execution_count": null,
      "outputs": []
    },
    {
      "cell_type": "code",
      "source": [
        "!pip install ultralytics"
      ],
      "metadata": {
        "collapsed": true,
        "id": "UpZUJr2hEGvY"
      },
      "execution_count": null,
      "outputs": []
    },
    {
      "cell_type": "code",
      "source": [
        "# Пути к данным\n",
        "DATASET_PATH = extract_path  # Основная папка датасета\n",
        "IMAGES_PATH = os.path.join(DATASET_PATH, 'images')  # Папка с изображениями\n",
        "LABELS_PATH = os.path.join(DATASET_PATH, 'labels')  # Папка с разметкой\n",
        "CLASSES_FILE = os.path.join(DATASET_PATH, 'classes.txt')  # Файл с классами"
      ],
      "metadata": {
        "id": "Jx2aqe7_IW3O"
      },
      "execution_count": null,
      "outputs": []
    },
    {
      "cell_type": "markdown",
      "source": [
        "подготовка датасета"
      ],
      "metadata": {
        "id": "wlkslSNrtdRe"
      }
    },
    {
      "cell_type": "code",
      "source": [
        "from sklearn.model_selection import train_test_split\n",
        "import shutil\n",
        "import yaml\n",
        "\n",
        "\n",
        "def create_train_val_split():\n",
        "    train_path = os.path.join('/content/dataset_splitted', 'train')\n",
        "    val_path = os.path.join('/content/dataset_splitted', 'val')\n",
        "\n",
        "    os.makedirs(os.path.join(train_path, 'images'), exist_ok=True)\n",
        "    os.makedirs(os.path.join(train_path, 'labels'), exist_ok=True)\n",
        "    os.makedirs(os.path.join(val_path, 'images'), exist_ok=True)\n",
        "    os.makedirs(os.path.join(val_path, 'labels'), exist_ok=True)\n",
        "\n",
        "    all_images = [f for f in os.listdir(IMAGES_PATH) if f.endswith(('.jpg', '.jpeg', '.png'))]\n",
        "\n",
        "    train_images, val_images = train_test_split(all_images, test_size=0.2, random_state=42)\n",
        "\n",
        "    # Копируем изображения и разметку в соответствующие папки\n",
        "    for img in train_images:\n",
        "        shutil.copy(os.path.join(IMAGES_PATH, img), os.path.join(train_path, 'images', img))\n",
        "\n",
        "        label_file = os.path.splitext(img)[0] + '.txt'\n",
        "        if os.path.exists(os.path.join(LABELS_PATH, label_file)):\n",
        "            shutil.copy(os.path.join(LABELS_PATH, label_file), os.path.join(train_path, 'labels', label_file))\n",
        "\n",
        "    for img in val_images:\n",
        "        shutil.copy(os.path.join(IMAGES_PATH, img), os.path.join(val_path, 'images', img))\n",
        "\n",
        "        label_file = os.path.splitext(img)[0] + '.txt'\n",
        "        if os.path.exists(os.path.join(LABELS_PATH, label_file)):\n",
        "            shutil.copy(os.path.join(LABELS_PATH, label_file), os.path.join(val_path, 'labels', label_file))\n",
        "\n",
        "    return train_path, val_path\n",
        "\n",
        "\n",
        "def create_data_yaml(train_path, val_path):\n",
        "    with open(CLASSES_FILE, 'r') as f:\n",
        "        classes = [line.strip() for line in f.readlines()]\n",
        "\n",
        "    data = {\n",
        "        'train': os.path.join(train_path, 'images'),\n",
        "        'val': os.path.join(val_path, 'images'),\n",
        "        'nc': len(classes),\n",
        "        'names': classes\n",
        "    }\n",
        "\n",
        "    yaml_path = os.path.join('/content/dataset_splitted', 'data.yaml')\n",
        "    with open(yaml_path, 'w') as f:\n",
        "        yaml.dump(data, f)\n",
        "\n",
        "    return yaml_path\n",
        "\n",
        "\n",
        "train_path, val_path = create_train_val_split()\n",
        "print(\"Created train/val split\")\n",
        "\n",
        "yaml_path = create_data_yaml(train_path, val_path)\n",
        "print(f\"Created data.yaml at: {yaml_path}\")"
      ],
      "metadata": {
        "id": "C0Xg84kJILaE"
      },
      "execution_count": null,
      "outputs": []
    },
    {
      "cell_type": "markdown",
      "source": [
        "**Обучение модели**"
      ],
      "metadata": {
        "id": "GFXxPVnvDJJ7"
      }
    },
    {
      "cell_type": "code",
      "source": [
        "from ultralytics import YOLO\n",
        "import torch\n",
        "import os\n",
        "\n",
        "# Проверка доступности GPU\n",
        "print('CUDA available ->', torch.cuda.is_available())\n",
        "\n",
        "# Основной процесс обучения\n",
        "def main():\n",
        "\n",
        "    # Загружаем модель\n",
        "    model = YOLO('yolo11x.pt')\n",
        "\n",
        "    # Параметры обучения\n",
        "    results = model.train(\n",
        "    data='/content/dataset_splitted/data.yaml',\n",
        "    epochs=200,\n",
        "    batch=8,           # Уменьшенный batch для T4\n",
        "    imgsz=640,         # Можно снизить до 512 если не хватает памяти\n",
        "    device='cuda',     # Используем GPU\n",
        "    workers=2,         # 2 потока для загрузки данных\n",
        "    lr0=0.01,          # Стандартная скорость обучения\n",
        "    patience=30,       # Ранняя остановка при отсутствии улучшений\n",
        "    augment=True,      # Включить аугментации\n",
        "    hsv_h=0.015,       # Аугментация: оттенок\n",
        "    fliplr=0.5,        # Аугментация: горизонтальное отражение\n",
        "    dropout=0.1,       # Регуляризация для маленького датасета\n",
        "    name='yolo_pleaseeeeeeeLAST'\n",
        "    )\n",
        "\n",
        "    # Сохраняем модель\n",
        "    model.save('custom_yolo_model.pt')\n",
        "    print(\"Training complete! Model saved as 'custom_yolo_model.pt'\")\n",
        "\n",
        "    # Валидация модели\n",
        "    metrics = model.val()\n",
        "    print(f\"mAP50-95: {metrics.box.map} | mAP50: {metrics.box.map50}\")\n",
        "\n",
        "if __name__ == '__main__':\n",
        "    main()"
      ],
      "metadata": {
        "id": "1efu7YiE95TY",
        "collapsed": true
      },
      "execution_count": null,
      "outputs": []
    },
    {
      "cell_type": "markdown",
      "source": [
        "Тут просто скачивание архива со всеми результатми модели (путь указывать надо)"
      ],
      "metadata": {
        "id": "8nqQ1ImyvhnG"
      }
    },
    {
      "cell_type": "code",
      "source": [
        "import zipfile\n",
        "import os\n",
        "from google.colab import files\n",
        "\n",
        "def zip_folder(folder_path, output_path):\n",
        "    with zipfile.ZipFile(output_path, 'w', zipfile.ZIP_DEFLATED) as zipf:\n",
        "        for root, dirs, files in os.walk(folder_path):\n",
        "            for file in files:\n",
        "                file_path = os.path.join(root, file)\n",
        "                arcname = os.path.relpath(file_path, start=folder_path)\n",
        "                zipf.write(file_path, arcname)\n",
        "\n",
        "# Путь к папке, которую нужно заархивировать\n",
        "source_folder = '/content/runs'\n",
        "# Путь для сохранения ZIP-архива\n",
        "output_zip = '/content/yolo_lst.zip'\n",
        "\n",
        "zip_folder(source_folder, output_zip)\n",
        "print(f'Архив создан: {output_zip}')\n",
        "files.download('/content/yolo_lst.zip')"
      ],
      "metadata": {
        "id": "Kq3Dx4IswA17"
      },
      "execution_count": null,
      "outputs": []
    },
    {
      "cell_type": "code",
      "source": [
        "VAL_IMAGES_PATH = '/content/dataset_splitted/val/images'\n",
        "MODEL_PATH = '/content/drive/MyDrive/YOLO_model/Almost there/custom_yolo_model.pt'  # Путь к лучшим весам"
      ],
      "metadata": {
        "id": "7D-lyScGfPJ-"
      },
      "execution_count": null,
      "outputs": []
    },
    {
      "cell_type": "markdown",
      "source": [
        "Тут можно прогнать через модель несколько изображений и вывести разметку"
      ],
      "metadata": {
        "id": "CgdUI2iQ0uMb"
      }
    },
    {
      "cell_type": "code",
      "source": [
        "import os\n",
        "import random\n",
        "import cv2\n",
        "import matplotlib.pyplot as plt\n",
        "from ultralytics import YOLO\n",
        "import numpy as np\n",
        "\n",
        "\n",
        "# Загрузка модели\n",
        "model = YOLO(MODEL_PATH)\n",
        "print(f\"Model loaded from {MODEL_PATH}\")\n",
        "\n",
        "# Получаем список изображений\n",
        "val_images = [f for f in os.listdir(VAL_IMAGES_PATH)\n",
        "             if f.endswith(('.jpg', '.jpeg', '.png'))]\n",
        "random.shuffle(val_images)\n",
        "selected_images = val_images[:10]\n",
        "\n",
        "# Настройка отображения\n",
        "plt.figure(figsize=(20, 25))\n",
        "for i, img_name in enumerate(selected_images):\n",
        "    img_path = os.path.join(VAL_IMAGES_PATH, img_name)\n",
        "\n",
        "    # Делаем предсказание\n",
        "    results = model.predict(img_path, conf=0.5)\n",
        "    result_img = results[0].plot(line_width=1, font_size=0.3)\n",
        "\n",
        "    # Конвертируем BGR (OpenCV) в RGB (Matplotlib)\n",
        "    result_img = cv2.cvtColor(result_img, cv2.COLOR_BGR2RGB)\n",
        "\n",
        "    # Отображаем\n",
        "    plt.subplot(5, 2, i+1)\n",
        "    plt.imshow(result_img)\n",
        "    plt.title(f\"{img_name}\", fontsize=1)\n",
        "    plt.axis('off')\n",
        "\n",
        "plt.tight_layout()\n",
        "plt.show()\n",
        "\n",
        "# Вывод информации о классах\n",
        "print(\"\\nСоответствие ID классов и их имен:\")\n",
        "for class_id, class_name in model.names.items():\n",
        "    print(f\"{class_id}: {class_name}\")"
      ],
      "metadata": {
        "id": "tZASLS1to0q1",
        "collapsed": true
      },
      "execution_count": null,
      "outputs": []
    }
  ]
}